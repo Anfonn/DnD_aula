{
 "cells": [
  {
   "cell_type": "markdown",
   "metadata": {},
   "source": []
  },
  {
   "cell_type": "code",
   "execution_count": 181,
   "metadata": {},
   "outputs": [],
   "source": [
    "import random\n",
    "import re"
   ]
  },
  {
   "cell_type": "code",
   "execution_count": 281,
   "metadata": {},
   "outputs": [],
   "source": [
    "class dado:\n",
    "    def d20():\n",
    "        return random.randint(1,20)\n",
    "    def d12():\n",
    "        return random.randint(1,12)\n",
    "    def d10():\n",
    "        return random.randint(1,10)\n",
    "    def d8():\n",
    "        return random.randint(1,8)\n",
    "    def d6():\n",
    "        return random.randint(1,6)\n",
    "    def d4():\n",
    "        return random.randint(1,4)"
   ]
  },
  {
   "cell_type": "code",
   "execution_count": 280,
   "metadata": {},
   "outputs": [
    {
     "data": {
      "text/plain": [
       "4"
      ]
     },
     "execution_count": 280,
     "metadata": {},
     "output_type": "execute_result"
    }
   ],
   "source": [
    "dado.rolar('d20')"
   ]
  },
  {
   "cell_type": "code",
   "execution_count": 277,
   "metadata": {},
   "outputs": [
    {
     "data": {
      "text/plain": [
       "15"
      ]
     },
     "execution_count": 277,
     "metadata": {},
     "output_type": "execute_result"
    }
   ],
   "source": [
    "dado.d20()"
   ]
  },
  {
   "cell_type": "code",
   "execution_count": 232,
   "metadata": {},
   "outputs": [],
   "source": [
    "stat = {\"strg\":0,\"dex\":0,\"con\":0,\"wis\":0,\"intl\":0,\"car\":0}\n",
    "\n",
    "for i, k in enumerate(stat.keys()):\n",
    "    stat[k] = random.randint(10,18)"
   ]
  },
  {
   "cell_type": "code",
   "execution_count": 233,
   "metadata": {},
   "outputs": [],
   "source": [
    "statmod = {\"strg\":0,\"dex\":0,\"con\":0,\"wis\":0,\"intl\":0,\"car\":0}\n",
    "\n",
    "for i, k in enumerate(statmod.keys()):\n",
    "    if stat[k] == (10,11):\n",
    "        statmod[k] = 0"
   ]
  },
  {
   "cell_type": "code",
   "execution_count": 234,
   "metadata": {},
   "outputs": [
    {
     "name": "stdout",
     "output_type": "stream",
     "text": [
      "{'strg': 0, 'dex': 0, 'con': 0, 'wis': 0, 'intl': 0, 'car': 0}\n"
     ]
    }
   ],
   "source": [
    "print(statmod)"
   ]
  },
  {
   "cell_type": "code",
   "execution_count": 270,
   "metadata": {},
   "outputs": [],
   "source": [
    "class character:\n",
    "    def __init__(self):\n",
    "        self.stat = {'strg': 0, 'dex': 0, 'con': 0, 'wis': 0, 'intl': 0, 'car': 0}\n",
    "        for i, k in enumerate(self.stat.keys()):\n",
    "            self.stat[k] = random.randint(10,18)\n",
    "        \n",
    "    def attack(self):\n",
    "    #recebe valor dado\n",
    "        print('Ataquei')\n",
    "    \n",
    "    def\n",
    "    \n",
    "    "
   ]
  },
  {
   "cell_type": "code",
   "execution_count": 271,
   "metadata": {},
   "outputs": [],
   "source": [
    "antonio = character()"
   ]
  },
  {
   "cell_type": "code",
   "execution_count": 272,
   "metadata": {},
   "outputs": [],
   "source": [
    "henrique = character()"
   ]
  },
  {
   "cell_type": "code",
   "execution_count": 273,
   "metadata": {},
   "outputs": [
    {
     "data": {
      "text/plain": [
       "{'strg': 11, 'dex': 16, 'con': 13, 'wis': 11, 'intl': 15, 'car': 17}"
      ]
     },
     "execution_count": 273,
     "metadata": {},
     "output_type": "execute_result"
    }
   ],
   "source": [
    "antonio.stat"
   ]
  },
  {
   "cell_type": "code",
   "execution_count": 274,
   "metadata": {},
   "outputs": [
    {
     "data": {
      "text/plain": [
       "{'strg': 17, 'dex': 10, 'con': 10, 'wis': 12, 'intl': 18, 'car': 15}"
      ]
     },
     "execution_count": 274,
     "metadata": {},
     "output_type": "execute_result"
    }
   ],
   "source": [
    "henrique.stat"
   ]
  },
  {
   "cell_type": "code",
   "execution_count": 252,
   "metadata": {},
   "outputs": [],
   "source": [
    "pedro = 2"
   ]
  },
  {
   "cell_type": "code",
   "execution_count": null,
   "metadata": {},
   "outputs": [],
   "source": []
  }
 ],
 "metadata": {
  "kernelspec": {
   "display_name": "Python 3",
   "language": "python",
   "name": "python3"
  },
  "language_info": {
   "codemirror_mode": {
    "name": "ipython",
    "version": 3
   },
   "file_extension": ".py",
   "mimetype": "text/x-python",
   "name": "python",
   "nbconvert_exporter": "python",
   "pygments_lexer": "ipython3",
   "version": "3.6.5"
  }
 },
 "nbformat": 4,
 "nbformat_minor": 2
}
